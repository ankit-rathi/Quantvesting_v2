{
  "metadata": {
    "kernelspec": {
      "language": "python",
      "display_name": "Python 3",
      "name": "python3"
    },
    "language_info": {
      "pygments_lexer": "ipython3",
      "nbconvert_exporter": "python",
      "version": "3.6.4",
      "file_extension": ".py",
      "codemirror_mode": {
        "name": "ipython",
        "version": 3
      },
      "name": "python",
      "mimetype": "text/x-python"
    },
    "colab": {
      "provenance": [],
      "name": "myProspects_Upside_Analysis_v2.ipynb",
      "include_colab_link": true
    }
  },
  "nbformat_minor": 0,
  "nbformat": 4,
  "cells": [
    {
      "cell_type": "markdown",
      "metadata": {
        "id": "view-in-github",
        "colab_type": "text"
      },
      "source": [
        "<a href=\"https://colab.research.google.com/github/ankit-rathi/Quantvesting_v2/blob/main/myProspects_Upside_Analysis_v2.ipynb\" target=\"_parent\"><img src=\"https://colab.research.google.com/assets/colab-badge.svg\" alt=\"Open In Colab\"/></a>"
      ]
    },
    {
      "cell_type": "code",
      "source": [
        "import pandas as pd\n",
        "import numpy as np\n",
        "from google.colab import drive\n",
        "drive.mount('/content/drive')\n",
        "import os\n",
        "project_path = '/content/drive/My Drive/quantvesting'\n",
        "os.chdir(project_path)\n",
        "\n",
        "import warnings\n",
        "warnings.filterwarnings('ignore')\n",
        "\n",
        "from google.colab import data_table"
      ],
      "metadata": {
        "colab": {
          "base_uri": "https://localhost:8080/"
        },
        "id": "mBsyWOxHn0Mo",
        "outputId": "a66947b9-fadb-4844-ae83-5b3ebdb4d604"
      },
      "execution_count": 1,
      "outputs": [
        {
          "output_type": "stream",
          "name": "stdout",
          "text": [
            "Mounted at /content/drive\n"
          ]
        }
      ]
    },
    {
      "cell_type": "code",
      "source": [
        "# Import the function from the script\n",
        "import myProspects_Upside_Analysis_v2\n",
        "\n",
        "all = 1\n",
        "\n",
        "# Call the function to get the DataFrame\n",
        "df_prospects_features = myProspects_Upside_Analysis_v2.get_prospects_features_v2(all)\n",
        "cols = ['Symbol', 'Close', 'FTT',  'Dev%_200', 'Dev%_PE', 'Conviction', 'RSP', 'Today%', 'FTT%', 'ATH%','Gained%', 'Criteria', 'Strategy', 'Sales_Grwth%', 'Profit_Grwth%', 'Category', 'InFolio', 'MCap']\n",
        "df_prospects_features = df_prospects_features[cols].drop_duplicates()"
      ],
      "metadata": {
        "colab": {
          "base_uri": "https://localhost:8080/"
        },
        "id": "iIzf3VuTzMYz",
        "outputId": "87e577c0-6dc5-4394-ec70-1d30d7937608"
      },
      "execution_count": null,
      "outputs": [
        {
          "output_type": "stream",
          "name": "stdout",
          "text": [
            "Run date time (IST): 2025-04-30 20:37:16\n",
            "-------------------\n",
            "Error fetching data for 3MINDIA: Too Many Requests. Rate limited. Try after a while.\n",
            "Error fetching data for 5PAISA: Too Many Requests. Rate limited. Try after a while.\n",
            "Error fetching data for AARTIIND: Too Many Requests. Rate limited. Try after a while.\n",
            "Error fetching data for AAVAS: Too Many Requests. Rate limited. Try after a while.\n",
            "Error fetching data for ABB: Too Many Requests. Rate limited. Try after a while.\n",
            "Error fetching data for ABBOTINDIA: Too Many Requests. Rate limited. Try after a while.\n",
            "Error fetching data for ABSLAMC: Too Many Requests. Rate limited. Try after a while.\n",
            "Error fetching data for ACC: Too Many Requests. Rate limited. Try after a while.\n",
            "Error fetching data for ADANIPORTS: Too Many Requests. Rate limited. Try after a while.\n",
            "Error fetching data for AETHER: Too Many Requests. Rate limited. Try after a while.\n",
            "Error fetching data for AKZOINDIA: Too Many Requests. Rate limited. Try after a while.\n",
            "Error fetching data for ALKYLAMINE: Too Many Requests. Rate limited. Try after a while.\n",
            "Error fetching data for ALKYLAMINE: Too Many Requests. Rate limited. Try after a while.\n"
          ]
        }
      ]
    },
    {
      "cell_type": "code",
      "source": [
        "# X-LC and H-LC prospects\n",
        "df_tmp = df_prospects_features[df_prospects_features['Conviction'].isin(['X-LC','H-LC'])]\n",
        "\n",
        "df_tmp['Rnk_Dev%_200'] = df_tmp['Dev%_200'].rank(method='min', ascending=True)\n",
        "df_tmp['Rnk_Dev%_PE'] = df_tmp['Dev%_PE'].rank(method='min', ascending=True)\n",
        "df_tmp['Rnk_Gained%'] = df_tmp['Gained%'].rank(method='min', ascending=True)\n",
        "df_tmp['Rnk_ATH%'] = df_tmp['ATH%'].rank(method='max', ascending=False)\n",
        "df_tmp['Rnk_Sales_Grwth%'] = df_tmp['Sales_Grwth%'].rank(method='max', ascending=False)\n",
        "df_tmp['Rnk_Profit_Grwth%'] = df_tmp['Profit_Grwth%'].rank(method='max', ascending=False)\n",
        "df_tmp['Rnk_MCap'] = df_tmp['MCap'].rank(method='max', ascending=False)\n",
        "df_tmp['Total_Rank'] = df_tmp['Rnk_Dev%_200'] + df_tmp['Rnk_Dev%_PE'] + df_tmp['Rnk_Gained%'] + df_tmp['Rnk_ATH%'] + df_tmp['Rnk_Sales_Grwth%'] + df_tmp['Rnk_Profit_Grwth%'] + df_tmp['Rnk_MCap']\n",
        "cols = ['Symbol', 'FTT', 'Dev%_200', 'Dev%_PE', 'Conviction', 'RSP', 'FTT%', 'ATH%','Gained%', 'Total_Rank', 'Strategy', 'Category', 'InFolio']\n",
        "data_table.DataTable(df_tmp[cols].sort_values(by = 'Total_Rank', ascending=True), include_index=False)"
      ],
      "metadata": {
        "id": "tWIvNsOjk1oy"
      },
      "execution_count": null,
      "outputs": []
    },
    {
      "cell_type": "code",
      "source": [
        "# x24/x25\n",
        "df_tmp = df_prospects_features[df_prospects_features['Criteria'].isin(['XY24', 'X25'])].sort_values(by = 'FTT%', ascending=False)\n",
        "data_table.DataTable(df_tmp, include_index=False)"
      ],
      "metadata": {
        "id": "C6Q6sqiNyFnZ"
      },
      "execution_count": null,
      "outputs": []
    },
    {
      "cell_type": "code",
      "source": [
        "# watchlist\n",
        "df_tmp = df_prospects_features[df_prospects_features['InFolio'] == -1].sort_values(by = 'FTT%', ascending=False)\n",
        "data_table.DataTable(df_tmp, include_index=False)"
      ],
      "metadata": {
        "id": "np5wuUHoNt27"
      },
      "execution_count": null,
      "outputs": []
    },
    {
      "cell_type": "code",
      "source": [
        "# X-MC and X-SC prospects\n",
        "df_tmp = df_prospects_features[df_prospects_features['Conviction'].str.startswith('X-', na=False)]\n",
        "df_tmp = df_tmp[~df_tmp['Conviction'].isin(['X-LC'])].sort_values(by = 'FTT%', ascending=False)\n",
        "data_table.DataTable(df_tmp, include_index=False)"
      ],
      "metadata": {
        "id": "VtOiK9dl-L3H"
      },
      "execution_count": null,
      "outputs": []
    },
    {
      "cell_type": "code",
      "source": [
        "# H-MC and H-SC prospects\n",
        "df_tmp = df_prospects_features[df_prospects_features['Conviction'].str.startswith('H-', na=False)]\n",
        "df_tmp = df_tmp[~df_tmp['Conviction'].isin(['H-LC'])].sort_values(by = 'FTT%', ascending=False)\n",
        "data_table.DataTable(df_tmp, include_index=False)"
      ],
      "metadata": {
        "id": "0yep1aMk3mHU"
      },
      "execution_count": null,
      "outputs": []
    },
    {
      "cell_type": "code",
      "source": [
        "# x40\n",
        "df_tmp = df_prospects_features[df_prospects_features['Criteria'].isin(['X40'])].sort_values(by = 'FTT%', ascending=False)\n",
        "data_table.DataTable(df_tmp, include_index=False)"
      ],
      "metadata": {
        "id": "YJshhwQNyymj"
      },
      "execution_count": null,
      "outputs": []
    },
    {
      "cell_type": "code",
      "source": [
        "# x40n\n",
        "df_tmp = df_prospects_features[df_prospects_features['Criteria'].isin(['X40N'])].sort_values(by = 'FTT%', ascending=False)\n",
        "data_table.DataTable(df_tmp, include_index=False)"
      ],
      "metadata": {
        "id": "p6Y8Ej_Zy3-L"
      },
      "execution_count": null,
      "outputs": []
    },
    {
      "cell_type": "code",
      "source": [
        "# xr, sr, ar\n",
        "df_tmp = df_prospects_features[df_prospects_features['Criteria'].isin(['XR','SR', 'AR'])].sort_values(by = 'FTT%', ascending=False)\n",
        "data_table.DataTable(df_tmp, include_index=False)"
      ],
      "metadata": {
        "id": "8JHep85L0wQb"
      },
      "execution_count": null,
      "outputs": []
    }
  ]
}